{
 "cells": [
  {
   "cell_type": "code",
   "execution_count": 24,
   "metadata": {},
   "outputs": [],
   "source": [
    "from pymongo import MongoClient\n",
    "import requests\n",
    "from bs4 import BeautifulSoup\n",
    "from keybert import KeyBERT"
   ]
  },
  {
   "cell_type": "code",
   "execution_count": 25,
   "metadata": {},
   "outputs": [
    {
     "name": "stderr",
     "output_type": "stream",
     "text": [
      "[nltk_data] Downloading package stopwords to\n",
      "[nltk_data]     C:\\Users\\emily\\AppData\\Roaming\\nltk_data...\n",
      "[nltk_data]   Package stopwords is already up-to-date!\n",
      "[nltk_data] Downloading package punkt to\n",
      "[nltk_data]     C:\\Users\\emily\\AppData\\Roaming\\nltk_data...\n",
      "[nltk_data]   Package punkt is already up-to-date!\n"
     ]
    }
   ],
   "source": [
    "uri = \"mongodb://localhost:27017/\"\n",
    "client = MongoClient(uri)\n",
    "\n",
    "db = client.get_database(\"cs6675\")\n",
    "web_crawler = db.get_collection(\"web_crawler\")\n",
    "\n",
    "starting_url = \"https://www.cc.gatech.edu/\"\n",
    "\n",
    "# model = KeyBERT('distilbert-base-nli-mean-tokens')\n",
    "\n",
    "from rake_nltk import Rake\n",
    "import nltk\n",
    " \n",
    "nltk.download('stopwords')\n",
    "nltk.download('punkt')\n",
    "\n",
    "rake_nltk_var = Rake()"
   ]
  },
  {
   "cell_type": "code",
   "execution_count": null,
   "metadata": {},
   "outputs": [],
   "source": [
    "visited = set()\n",
    "q = [starting_url]\n",
    "\n",
    "while len(q) > 0 and len(visited) < 1000:\n",
    "    url = q.pop(0)\n",
    "    if url not in visited:\n",
    "        print(len(visited))\n",
    "        try: \n",
    "            x = requests.get(url, timeout=5)\n",
    "\n",
    "            if x.status_code == 200:\n",
    "                visited.add(url)\n",
    "                soup = BeautifulSoup(x.text, 'html.parser')\n",
    "                relative_links = soup.find_all('a')\n",
    "                text = soup.get_text(' ', strip=True)[:5000]\n",
    "\n",
    "                doc = {\"url\": url, \"text\": text}\n",
    "                web_crawler.update_one({\"url\": url}, {\"$set\": doc}, upsert=True)\n",
    "\n",
    "                for link in relative_links:\n",
    "                    next_url = link.get(\"href\")\n",
    "                    if next_url and \"cc.gatech.edu\" in next_url and next_url not in visited:\n",
    "                        q.append(next_url)\n",
    "        except:\n",
    "            continue\n",
    "\n",
    "print(len(visited))\n",
    "        "
   ]
  }
 ],
 "metadata": {
  "kernelspec": {
   "display_name": "Python 3",
   "language": "python",
   "name": "python3"
  },
  "language_info": {
   "codemirror_mode": {
    "name": "ipython",
    "version": 3
   },
   "file_extension": ".py",
   "mimetype": "text/x-python",
   "name": "python",
   "nbconvert_exporter": "python",
   "pygments_lexer": "ipython3",
   "version": "3.10.11"
  }
 },
 "nbformat": 4,
 "nbformat_minor": 2
}
